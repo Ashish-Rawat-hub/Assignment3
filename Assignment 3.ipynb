{
 "cells": [
  {
   "cell_type": "code",
   "execution_count": 3,
   "metadata": {},
   "outputs": [
    {
     "data": {
      "text/plain": [
       "array([ 2,  5,  8, 11, 14, 17, 20, 23, 26, 29, 32, 35, 38, 41, 44, 47, 50])"
      ]
     },
     "execution_count": 3,
     "metadata": {},
     "output_type": "execute_result"
    }
   ],
   "source": [
    "#Q1 Create a numpy array starting from 2 till 50 with a stepsize of 3.\n",
    "\n",
    "import numpy as np\n",
    "\n",
    "arr = np.array(np.arange(2,51,3))\n",
    "arr"
   ]
  },
  {
   "cell_type": "code",
   "execution_count": 40,
   "metadata": {},
   "outputs": [
    {
     "name": "stdout",
     "output_type": "stream",
     "text": [
      "Enter 5 numbers for list1\n",
      "5\n",
      "3\n",
      "6\n",
      "3\n",
      "7\n",
      "Enter 5 numbers for list2\n",
      "5\n",
      "3\n",
      "7\n",
      "4\n",
      "2\n",
      "Array1 :  [5 3 6 3 7]\n",
      "Array2 :  [5 3 7 4 2]\n",
      "After Concatenation :  [5 3 6 3 7 5 3 7 4 2]\n",
      "After sorting :  [2 3 3 3 4 5 5 6 7 7]\n"
     ]
    }
   ],
   "source": [
    "#Q2 Accept two lists of 5 elements each from the user.Convert them to numpy arrays. \n",
    "#Concatenate these arrays and print it. Also sort these arrays and print it.\n",
    "\n",
    "l1 = []\n",
    "l2 = []\n",
    "print(\"Enter 5 numbers for list1\")\n",
    "for i in range(5):\n",
    "    l1.append(int(input()))\n",
    "    \n",
    "print(\"Enter 5 numbers for list2\")\n",
    "for i in range(5):\n",
    "    l2.append(int(input()))\n",
    "\n",
    "arr1 = np.array(l1)   #Converting list1 to array\n",
    "arr2 = np.array(l2)   #Converting list2 to array\n",
    "print(\"Array1 : \",arr1)\n",
    "print(\"Array2 : \",arr2)\n",
    "arr3 = np.concatenate((arr1,arr2),axis=None)    #Concatinating both arrays\n",
    "print(\"After Concatenation : \",arr3)     #Sorting concatinated arrays\n",
    "arr3.sort()\n",
    "print(\"After sorting : \",arr3)"
   ]
  },
  {
   "cell_type": "code",
   "execution_count": null,
   "metadata": {},
   "outputs": [],
   "source": [
    "#Q3 Write a code snippet to find the dimensions of a ndarray and its size.\n",
    "\n",
    "arr = np.arange(12).reshape(3,4)\n",
    "print(\"Array:\\n\",arr)\n",
    "print(\"\\nArray Dimension: \",arr.ndim)\n",
    "print(\"\\nArray size : \",arr.size)"
   ]
  },
  {
   "cell_type": "code",
   "execution_count": 42,
   "metadata": {},
   "outputs": [
    {
     "name": "stdout",
     "output_type": "stream",
     "text": [
      "[ 0  1  2  3  4  5  6  7  8  9 10 11]\n",
      "\n",
      "Shape before newaxis:  (12,)\n",
      "[[ 0  1  2  3  4  5  6  7  8  9 10 11]]\n",
      "\n",
      "Shape after newaxis:  (1, 12)\n",
      "[ 0  1  2  3  4  5  6  7  8  9 10 11]\n",
      "\n",
      "Shape before expand_dims:  (12,)\n",
      "[[ 0  1  2  3  4  5  6  7  8  9 10 11]]\n",
      "\n",
      "Shape after newaxis:  (1, 12)\n"
     ]
    }
   ],
   "source": [
    "#Q4 How to convert a 1D array into a 2D array? Demonstrate with the help of a code snippet\n",
    "\n",
    "#For newaxis\n",
    "arr = np.arange(12)\n",
    "print(arr)\n",
    "print(\"\\nShape before newaxis: \",np.shape(arr))\n",
    "arr1 = arr[np.newaxis,:]    #By using newaxis\n",
    "print(arr1)\n",
    "print(\"\\nShape after newaxis: \",np.shape(arr1))\n",
    "\n",
    "#For expand_dims\n",
    "arr2 = np.arange(12)\n",
    "print(arr2)\n",
    "print(\"\\nShape before expand_dims: \",np.shape(arr2))\n",
    "arr3 = np.expand_dims(arr2,axis=0)   #By using expand_dims\n",
    "print(arr3)\n",
    "print(\"\\nShape after newaxis: \",np.shape(arr3))"
   ]
  },
  {
   "cell_type": "code",
   "execution_count": 33,
   "metadata": {},
   "outputs": [
    {
     "name": "stdout",
     "output_type": "stream",
     "text": [
      "[[ 0  1  2  3]\n",
      " [ 4  5  6  7]\n",
      " [ 8  9 10 11]\n",
      " [12 13 14 15]] \n",
      "\n",
      "\n",
      "[[16 17 18 19]\n",
      " [20 21 22 23]\n",
      " [24 25 26 27]\n",
      " [28 29 30 31]]\n",
      "\n",
      "Stacking horizontally\n",
      "[[ 0  1  2  3 16 17 18 19]\n",
      " [ 4  5  6  7 20 21 22 23]\n",
      " [ 8  9 10 11 24 25 26 27]\n",
      " [12 13 14 15 28 29 30 31]]\n",
      "\n",
      "Stacking vertically\n",
      "[[ 0  1  2  3]\n",
      " [ 4  5  6  7]\n",
      " [ 8  9 10 11]\n",
      " [12 13 14 15]\n",
      " [16 17 18 19]\n",
      " [20 21 22 23]\n",
      " [24 25 26 27]\n",
      " [28 29 30 31]]\n"
     ]
    }
   ],
   "source": [
    "#Q5 Consider two square numpy arrays. Stack them vertically and horizontally.\n",
    "\n",
    "arr1 = np.arange(16).reshape(4,4)\n",
    "arr2 = np.arange(16,32).reshape(4,4)\n",
    "print(arr1,\"\\n\\n\")\n",
    "print(arr2)\n",
    "print(\"\\nStacking horizontally\")\n",
    "arr3 = np.hstack((arr1,arr2))\n",
    "print(arr3)\n",
    "print(\"\\nStacking vertically\")\n",
    "arr4 = np.vstack((arr1,arr2))\n",
    "print(arr4)"
   ]
  },
  {
   "cell_type": "code",
   "execution_count": 37,
   "metadata": {},
   "outputs": [
    {
     "name": "stdout",
     "output_type": "stream",
     "text": [
      "[1 2 4 2 4 6 4 6 8 5 3 7]\n",
      "[1 2 3 4 5 6 7 8]\n",
      "8\n"
     ]
    }
   ],
   "source": [
    "#Q6 How to get unique items and counts of unique items?\n",
    "\n",
    "arr = np.array([1,2,4,2,4,6,4,6,8,5,3,7])\n",
    "print(arr)    #normal array\n",
    "arr2 = np.unique(arr)    #Finding unique elements of this array\n",
    "print(arr2)\n",
    "print(len(arr2))      # Counting number of unique items"
   ]
  }
 ],
 "metadata": {
  "kernelspec": {
   "display_name": "Python 3",
   "language": "python",
   "name": "python3"
  },
  "language_info": {
   "codemirror_mode": {
    "name": "ipython",
    "version": 3
   },
   "file_extension": ".py",
   "mimetype": "text/x-python",
   "name": "python",
   "nbconvert_exporter": "python",
   "pygments_lexer": "ipython3",
   "version": "3.8.3"
  }
 },
 "nbformat": 4,
 "nbformat_minor": 4
}
